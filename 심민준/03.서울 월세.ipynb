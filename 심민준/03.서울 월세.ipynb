{
 "cells": [
  {
   "cell_type": "code",
   "execution_count": 1,
   "metadata": {},
   "outputs": [],
   "source": [
    "import time\n",
    "import pandas as pd\n",
    "from selenium import webdriver\n",
    "from selenium.webdriver.common.by import By\n",
    "from bs4 import BeautifulSoup\n",
    "from urllib.parse import quote\n",
    "from tqdm import tqdm"
   ]
  },
  {
   "cell_type": "code",
   "execution_count": 2,
   "metadata": {},
   "outputs": [
    {
     "name": "stderr",
     "output_type": "stream",
     "text": [
      "The chromedriver version (117.0.5938.88) detected in PATH at C:\\Users\\human\\Downloads\\chromedriver-win64\\chromedriver.exe might not be compatible with the detected chrome version (118.0.5993.88); currently, chromedriver 118.0.5993.70 is recommended for chrome 118.*, so it is advised to delete the driver in PATH and retry\n"
     ]
    }
   ],
   "source": [
    "url = f'https://kin.naver.com/search/list.naver?query={quote(\"서울 월세\")}&page=1'\n",
    "driver = webdriver.Chrome()\n",
    "driver.get(url)\n",
    "soup = BeautifulSoup(driver.page_source, 'html.parser')\n",
    "time.sleep(3)"
   ]
  },
  {
   "cell_type": "code",
   "execution_count": 3,
   "metadata": {},
   "outputs": [
    {
     "data": {
      "text/plain": [
       "10"
      ]
     },
     "execution_count": 3,
     "metadata": {},
     "output_type": "execute_result"
    }
   ],
   "source": [
    "lis = soup.select('.basic1 > li')\n",
    "len(lis)"
   ]
  },
  {
   "cell_type": "code",
   "execution_count": 4,
   "metadata": {},
   "outputs": [
    {
     "data": {
      "text/plain": [
       "'https://kin.naver.com/qna/detail.naver?d1id=4&dirId=4020202&docId=455469254&qb=7ISc7Jq4IOyblOyEuA==&enc=utf8&section=kin&rank=7&search_sort=0&spq=0'"
      ]
     },
     "execution_count": 4,
     "metadata": {},
     "output_type": "execute_result"
    }
   ],
   "source": [
    "li = lis[6]\n",
    "sub_url = li.select_one('a._searchListTitleAnchor')['href']\n",
    "sub_url"
   ]
  },
  {
   "cell_type": "code",
   "execution_count": 5,
   "metadata": {},
   "outputs": [],
   "source": [
    "driver.get(sub_url)\n",
    "time.sleep(2)"
   ]
  },
  {
   "cell_type": "code",
   "execution_count": 22,
   "metadata": {},
   "outputs": [
    {
     "ename": "InvalidSessionIdException",
     "evalue": "Message: invalid session id\nStacktrace:\n\tGetHandleVerifier [0x00007FF6F4D078A2+54818]\n\t(No symbol) [0x00007FF6F4C76AD2]\n\t(No symbol) [0x00007FF6F4B2D8ED]\n\t(No symbol) [0x00007FF6F4B630DE]\n\t(No symbol) [0x00007FF6F4B8E9A2]\n\t(No symbol) [0x00007FF6F4B8A710]\n\t(No symbol) [0x00007FF6F4B8A016]\n\t(No symbol) [0x00007FF6F4B041D0]\n\tGetHandleVerifier [0x00007FF6F506B9A2+3610402]\n\tGetHandleVerifier [0x00007FF6F50C1870+3962352]\n\tGetHandleVerifier [0x00007FF6F50B9D5F+3930847]\n\tGetHandleVerifier [0x00007FF6F4DA3656+693206]\n\t(No symbol) [0x00007FF6F4C81638]\n\t(No symbol) [0x00007FF6F4B02FFE]\n\tGetHandleVerifier [0x00007FF6F5102288+4227080]\n\tBaseThreadInitThunk [0x00007FFFD4147344+20]\n\tRtlUserThreadStart [0x00007FFFD52E26B1+33]\n",
     "output_type": "error",
     "traceback": [
      "\u001b[1;31m---------------------------------------------------------------------------\u001b[0m",
      "\u001b[1;31mInvalidSessionIdException\u001b[0m                 Traceback (most recent call last)",
      "\u001b[1;32md:\\WorkSpace\\99.챗봇프로젝트\\03.서울 월세 copy.ipynb 셀 6\u001b[0m line \u001b[0;36m1\n\u001b[1;32m----> <a href='vscode-notebook-cell:/d%3A/WorkSpace/99.%EC%B1%97%EB%B4%87%ED%94%84%EB%A1%9C%EC%A0%9D%ED%8A%B8/03.%EC%84%9C%EC%9A%B8%20%EC%9B%94%EC%84%B8%20copy.ipynb#W5sZmlsZQ%3D%3D?line=0'>1</a>\u001b[0m sub_soup \u001b[39m=\u001b[39m BeautifulSoup(driver\u001b[39m.\u001b[39mpage_source, \u001b[39m'\u001b[39m\u001b[39mhtml.parser\u001b[39m\u001b[39m'\u001b[39m)\n\u001b[0;32m      <a href='vscode-notebook-cell:/d%3A/WorkSpace/99.%EC%B1%97%EB%B4%87%ED%94%84%EB%A1%9C%EC%A0%9D%ED%8A%B8/03.%EC%84%9C%EC%9A%B8%20%EC%9B%94%EC%84%B8%20copy.ipynb#W5sZmlsZQ%3D%3D?line=1'>2</a>\u001b[0m questions \u001b[39m=\u001b[39m sub_soup\u001b[39m.\u001b[39mselect(\u001b[39m'\u001b[39m\u001b[39m#content > div.question-content > div > div.c-heading._questionContentsArea.c-heading--default-old > div.c-heading__content\u001b[39m\u001b[39m'\u001b[39m)\n\u001b[0;32m      <a href='vscode-notebook-cell:/d%3A/WorkSpace/99.%EC%B1%97%EB%B4%87%ED%94%84%EB%A1%9C%EC%A0%9D%ED%8A%B8/03.%EC%84%9C%EC%9A%B8%20%EC%9B%94%EC%84%B8%20copy.ipynb#W5sZmlsZQ%3D%3D?line=2'>3</a>\u001b[0m divs \u001b[39m=\u001b[39m sub_soup\u001b[39m.\u001b[39mselect(\u001b[39m'\u001b[39m\u001b[39m#answer_1 > div._endContents.c-heading-answer__content > div._endContentsText.c-heading-answer__content-user > div > div\u001b[39m\u001b[39m'\u001b[39m)\n",
      "File \u001b[1;32mc:\\Users\\human\\anaconda3\\Lib\\site-packages\\selenium\\webdriver\\remote\\webdriver.py:445\u001b[0m, in \u001b[0;36mWebDriver.page_source\u001b[1;34m(self)\u001b[0m\n\u001b[0;32m    436\u001b[0m \u001b[39m@property\u001b[39m\n\u001b[0;32m    437\u001b[0m \u001b[39mdef\u001b[39;00m \u001b[39mpage_source\u001b[39m(\u001b[39mself\u001b[39m) \u001b[39m-\u001b[39m\u001b[39m>\u001b[39m \u001b[39mstr\u001b[39m:\n\u001b[0;32m    438\u001b[0m \u001b[39m    \u001b[39m\u001b[39m\"\"\"Gets the source of the current page.\u001b[39;00m\n\u001b[0;32m    439\u001b[0m \n\u001b[0;32m    440\u001b[0m \u001b[39m    :Usage:\u001b[39;00m\n\u001b[1;32m   (...)\u001b[0m\n\u001b[0;32m    443\u001b[0m \u001b[39m            driver.page_source\u001b[39;00m\n\u001b[0;32m    444\u001b[0m \u001b[39m    \"\"\"\u001b[39;00m\n\u001b[1;32m--> 445\u001b[0m     \u001b[39mreturn\u001b[39;00m \u001b[39mself\u001b[39m\u001b[39m.\u001b[39mexecute(Command\u001b[39m.\u001b[39mGET_PAGE_SOURCE)[\u001b[39m\"\u001b[39m\u001b[39mvalue\u001b[39m\u001b[39m\"\u001b[39m]\n",
      "File \u001b[1;32mc:\\Users\\human\\anaconda3\\Lib\\site-packages\\selenium\\webdriver\\remote\\webdriver.py:344\u001b[0m, in \u001b[0;36mWebDriver.execute\u001b[1;34m(self, driver_command, params)\u001b[0m\n\u001b[0;32m    342\u001b[0m response \u001b[39m=\u001b[39m \u001b[39mself\u001b[39m\u001b[39m.\u001b[39mcommand_executor\u001b[39m.\u001b[39mexecute(driver_command, params)\n\u001b[0;32m    343\u001b[0m \u001b[39mif\u001b[39;00m response:\n\u001b[1;32m--> 344\u001b[0m     \u001b[39mself\u001b[39m\u001b[39m.\u001b[39merror_handler\u001b[39m.\u001b[39mcheck_response(response)\n\u001b[0;32m    345\u001b[0m     response[\u001b[39m\"\u001b[39m\u001b[39mvalue\u001b[39m\u001b[39m\"\u001b[39m] \u001b[39m=\u001b[39m \u001b[39mself\u001b[39m\u001b[39m.\u001b[39m_unwrap_value(response\u001b[39m.\u001b[39mget(\u001b[39m\"\u001b[39m\u001b[39mvalue\u001b[39m\u001b[39m\"\u001b[39m, \u001b[39mNone\u001b[39;00m))\n\u001b[0;32m    346\u001b[0m     \u001b[39mreturn\u001b[39;00m response\n",
      "File \u001b[1;32mc:\\Users\\human\\anaconda3\\Lib\\site-packages\\selenium\\webdriver\\remote\\errorhandler.py:229\u001b[0m, in \u001b[0;36mErrorHandler.check_response\u001b[1;34m(self, response)\u001b[0m\n\u001b[0;32m    227\u001b[0m         alert_text \u001b[39m=\u001b[39m value[\u001b[39m\"\u001b[39m\u001b[39malert\u001b[39m\u001b[39m\"\u001b[39m]\u001b[39m.\u001b[39mget(\u001b[39m\"\u001b[39m\u001b[39mtext\u001b[39m\u001b[39m\"\u001b[39m)\n\u001b[0;32m    228\u001b[0m     \u001b[39mraise\u001b[39;00m exception_class(message, screen, stacktrace, alert_text)  \u001b[39m# type: ignore[call-arg]  # mypy is not smart enough here\u001b[39;00m\n\u001b[1;32m--> 229\u001b[0m \u001b[39mraise\u001b[39;00m exception_class(message, screen, stacktrace)\n",
      "\u001b[1;31mInvalidSessionIdException\u001b[0m: Message: invalid session id\nStacktrace:\n\tGetHandleVerifier [0x00007FF6F4D078A2+54818]\n\t(No symbol) [0x00007FF6F4C76AD2]\n\t(No symbol) [0x00007FF6F4B2D8ED]\n\t(No symbol) [0x00007FF6F4B630DE]\n\t(No symbol) [0x00007FF6F4B8E9A2]\n\t(No symbol) [0x00007FF6F4B8A710]\n\t(No symbol) [0x00007FF6F4B8A016]\n\t(No symbol) [0x00007FF6F4B041D0]\n\tGetHandleVerifier [0x00007FF6F506B9A2+3610402]\n\tGetHandleVerifier [0x00007FF6F50C1870+3962352]\n\tGetHandleVerifier [0x00007FF6F50B9D5F+3930847]\n\tGetHandleVerifier [0x00007FF6F4DA3656+693206]\n\t(No symbol) [0x00007FF6F4C81638]\n\t(No symbol) [0x00007FF6F4B02FFE]\n\tGetHandleVerifier [0x00007FF6F5102288+4227080]\n\tBaseThreadInitThunk [0x00007FFFD4147344+20]\n\tRtlUserThreadStart [0x00007FFFD52E26B1+33]\n"
     ]
    }
   ],
   "source": [
    "sub_soup = BeautifulSoup(driver.page_source, 'html.parser')\n",
    "questions = sub_soup.select('#content > div.question-content > div > div.c-heading._questionContentsArea.c-heading--default-old > div.c-heading__content')\n",
    "divs = sub_soup.select('#answer_1 > div._endContents.c-heading-answer__content > div._endContentsText.c-heading-answer__content-user > div > div')\n",
    "len(questions),len(divs)"
   ]
  },
  {
   "cell_type": "code",
   "execution_count": 7,
   "metadata": {},
   "outputs": [
    {
     "name": "stdout",
     "output_type": "stream",
     "text": [
      "마음에 드는 원룸이 보증금 5천 월세20 관리비 10입니다최우선변제금액이 3400만원이구요건물시세가 밸류맵으로 확인해봤을때 7억8천8백만원이였구요 등기부등본에 채권최고액이 5억4천으로공동담보로 잡혀있었습니다안전한 집 일까요…..\thu\n"
     ]
    }
   ],
   "source": [
    "answer = ''\n",
    "for p in questions:\n",
    "    text = p.get_text().strip()\n",
    "    if text == '\\u200b' or text == '':\n",
    "        continue\n",
    "    answer += text\n",
    "print(answer + '\\t' + 'hu')"
   ]
  },
  {
   "cell_type": "code",
   "execution_count": 8,
   "metadata": {},
   "outputs": [
    {
     "data": {
      "text/plain": [
       "4"
      ]
     },
     "execution_count": 8,
     "metadata": {},
     "output_type": "execute_result"
    }
   ],
   "source": [
    "div = divs[0]\n",
    "ps = div.select('.se-text-paragraph.se-text-paragraph-align-')\n",
    "len(ps)"
   ]
  },
  {
   "cell_type": "code",
   "execution_count": 9,
   "metadata": {},
   "outputs": [
    {
     "name": "stdout",
     "output_type": "stream",
     "text": [
      "상태로 보았을때 안전하지 않습니다.혹시 모를 위험애 대비해서 다른곳을 찾는걸 추천 드립니다..궁금증이 풀리셨다면 채택 부탁드립니다!\n"
     ]
    }
   ],
   "source": [
    "answer = ''\n",
    "for p in ps:\n",
    "    text = p.get_text().strip()\n",
    "    if text == '\\u200b' or text == '':\n",
    "        continue\n",
    "    answer += text\n",
    "print(answer)"
   ]
  },
  {
   "cell_type": "code",
   "execution_count": 20,
   "metadata": {},
   "outputs": [
    {
     "name": "stderr",
     "output_type": "stream",
     "text": [
      "The chromedriver version (117.0.5938.88) detected in PATH at C:\\Users\\human\\Downloads\\chromedriver-win64\\chromedriver.exe might not be compatible with the detected chrome version (118.0.5993.88); currently, chromedriver 118.0.5993.70 is recommended for chrome 118.*, so it is advised to delete the driver in PATH and retry\n"
     ]
    },
    {
     "name": "stdout",
     "output_type": "stream",
     "text": [
      "\n",
      "\n",
      "\n",
      "\n",
      "\n",
      "\n",
      "\n",
      "\n",
      "\n",
      "\n",
      "\n",
      "\n",
      "\n",
      "\n",
      "\n",
      "\n",
      "\n",
      "\n",
      "\n",
      "\n",
      "\n",
      "\n",
      "\n",
      "\n",
      "\n",
      "\n",
      "\n",
      "\n",
      "\n",
      "\n",
      "\n",
      "\n",
      "\n",
      "\n",
      "\n"
     ]
    }
   ],
   "source": [
    "data_list = []\n",
    "driver = webdriver.Chrome()\n",
    "for page in range(1, 36):\n",
    "    url = f'https://kin.naver.com/search/list.naver?query={quote(\"서울 월세\")}&page={page}'\n",
    "    driver.get(url)\n",
    "    time.sleep(3)\n",
    "    soup = BeautifulSoup(driver.page_source, 'html.parser')\n",
    "    lis = soup.select('.basic1 > li')\n",
    "\n",
    "    for li in lis:\n",
    "        sub_url = li.select_one('a._searchListTitleAnchor')['href']\n",
    "        driver.get(sub_url)\n",
    "        time.sleep(2)\n",
    "\n",
    "        sub_soup = BeautifulSoup(driver.page_source, 'html.parser')\n",
    "        questions = sub_soup.select('#content > div.question-content > div > div.c-heading._questionContentsArea.c-heading--default-old > div.c-heading__content')\n",
    "        divs = sub_soup.select('#answer_1 > div._endContents.c-heading-answer__content > div._endContentsText.c-heading-answer__content-user > div > div')\n",
    "        \n",
    "        answer = ''\n",
    "        for p in questions:\n",
    "            text = p.get_text().strip()\n",
    "            answer += text\n",
    "        answer1 = ''\n",
    "        for p in divs:\n",
    "            text = p.get_text().strip()\n",
    "            answer1 += text\n",
    "        \n",
    "        data_list.append({'구분': '월세', '질문': answer, '답변': answer1})\n",
    "         \n",
    "        driver.back()\n",
    "        time.sleep(2)\n",
    "    print()\n",
    "\n",
    "driver.close()"
   ]
  },
  {
   "cell_type": "code",
   "execution_count": 21,
   "metadata": {},
   "outputs": [
    {
     "data": {
      "text/html": [
       "<div>\n",
       "<style scoped>\n",
       "    .dataframe tbody tr th:only-of-type {\n",
       "        vertical-align: middle;\n",
       "    }\n",
       "\n",
       "    .dataframe tbody tr th {\n",
       "        vertical-align: top;\n",
       "    }\n",
       "\n",
       "    .dataframe thead th {\n",
       "        text-align: right;\n",
       "    }\n",
       "</style>\n",
       "<table border=\"1\" class=\"dataframe\">\n",
       "  <thead>\n",
       "    <tr style=\"text-align: right;\">\n",
       "      <th></th>\n",
       "      <th>구분</th>\n",
       "      <th>질문</th>\n",
       "      <th>답변</th>\n",
       "    </tr>\n",
       "  </thead>\n",
       "  <tbody>\n",
       "    <tr>\n",
       "      <th>0</th>\n",
       "      <td>월세</td>\n",
       "      <td>제 상황에 어떤 선택이 좋은지 모르겠어서 질문글 남깁니다.집 컨디션은 비슷한 것 같...</td>\n",
       "      <td>월세가 차라리 더 좋아 보입니다.전체적으로 좀 싸게 들어가면 전세가 좋기는 하지만,...</td>\n",
       "    </tr>\n",
       "    <tr>\n",
       "      <th>1</th>\n",
       "      <td>월세</td>\n",
       "      <td>서울 주거 포털에서 청년월세지원을 신청했는데 아직도 심사중이라고 뜹니다 월세지원 못...</td>\n",
       "      <td>결과 발표 11월중 예정이라고 돼 있어요</td>\n",
       "    </tr>\n",
       "    <tr>\n",
       "      <th>2</th>\n",
       "      <td>월세</td>\n",
       "      <td></td>\n",
       "      <td>안녕하세요. 답변드려요.​네, 서울 청년월세지원은 신청자에게 결과를 카톡으로 연락해...</td>\n",
       "    </tr>\n",
       "    <tr>\n",
       "      <th>3</th>\n",
       "      <td>월세</td>\n",
       "      <td>인천 연수구 송도국제도로 123 오네스타 랑 최대한 가까운 곳으로 추천 부탁드립니다...</td>\n",
       "      <td>1.신림동.독산동.신월동.시흥동.가산동 등등 입니다그러나 보통 원룸 월세가 40~4...</td>\n",
       "    </tr>\n",
       "    <tr>\n",
       "      <th>4</th>\n",
       "      <td>월세</td>\n",
       "      <td>서울월세지원 10번 받아서 끝났는데 또 신청해서 또 받을수 있나요</td>\n",
       "      <td>답변드립니다최대 10개월 지원받고 200만원까지 가능한데 생애 1회만 가능합니다그러...</td>\n",
       "    </tr>\n",
       "    <tr>\n",
       "      <th>...</th>\n",
       "      <td>...</td>\n",
       "      <td>...</td>\n",
       "      <td>...</td>\n",
       "    </tr>\n",
       "    <tr>\n",
       "      <th>345</th>\n",
       "      <td>월세</td>\n",
       "      <td>이번에 하는 서울청년월세지원 쉐어하우스도 해당되나요?</td>\n",
       "      <td>안녕하세요지식인 대출분야(담보대출,전세자금대출,신용대출,개인회생) 상담전문 뱅크솔루...</td>\n",
       "    </tr>\n",
       "    <tr>\n",
       "      <th>346</th>\n",
       "      <td>월세</td>\n",
       "      <td>서울에서 자취중입니다.  1.5억 전세 원룸에 살고있는데 전세가 그대로 목적물변경으...</td>\n",
       "      <td>어 음...월세가 너무 부담 되지 않을까요?여건이 되고 지금 집이 괜찮다면 그냥 그...</td>\n",
       "    </tr>\n",
       "    <tr>\n",
       "      <th>347</th>\n",
       "      <td>월세</td>\n",
       "      <td>당장 오늘 집보러 가는데 아는게 없네요... 보통 월세 보증금이 5천 이상 하더라구요</td>\n",
       "      <td>서울 월세 집을 얻을때 알아둬야 할게 있을까요당장 오늘 집보러 가는데 아는게 없네요...</td>\n",
       "    </tr>\n",
       "    <tr>\n",
       "      <th>348</th>\n",
       "      <td>월세</td>\n",
       "      <td>16일부터 신청가능한 서울 청년월세지원 관련해서 메일이 왔는데 자격 조건이 월세 6...</td>\n",
       "      <td>안녕하세요. 서울생활 행복도우미 120다산콜센터 지식파트너입니다.　　◈ 2020년 ...</td>\n",
       "    </tr>\n",
       "    <tr>\n",
       "      <th>349</th>\n",
       "      <td>월세</td>\n",
       "      <td>안녕하세요 월세지원금 선정되서 금일 입금이 되었습니다6,7,8월 이체증 등록해서 오...</td>\n",
       "      <td>안녕하세요 월세지원금 선정되서 금일 입금이 되었습니다, 6,7,8월 이체증 등록해서...</td>\n",
       "    </tr>\n",
       "  </tbody>\n",
       "</table>\n",
       "<p>350 rows × 3 columns</p>\n",
       "</div>"
      ],
      "text/plain": [
       "     구분                                                 질문  \\\n",
       "0    월세  제 상황에 어떤 선택이 좋은지 모르겠어서 질문글 남깁니다.집 컨디션은 비슷한 것 같...   \n",
       "1    월세  서울 주거 포털에서 청년월세지원을 신청했는데 아직도 심사중이라고 뜹니다 월세지원 못...   \n",
       "2    월세                                                      \n",
       "3    월세  인천 연수구 송도국제도로 123 오네스타 랑 최대한 가까운 곳으로 추천 부탁드립니다...   \n",
       "4    월세               서울월세지원 10번 받아서 끝났는데 또 신청해서 또 받을수 있나요   \n",
       "..   ..                                                ...   \n",
       "345  월세                      이번에 하는 서울청년월세지원 쉐어하우스도 해당되나요?   \n",
       "346  월세  서울에서 자취중입니다.  1.5억 전세 원룸에 살고있는데 전세가 그대로 목적물변경으...   \n",
       "347  월세    당장 오늘 집보러 가는데 아는게 없네요... 보통 월세 보증금이 5천 이상 하더라구요   \n",
       "348  월세  16일부터 신청가능한 서울 청년월세지원 관련해서 메일이 왔는데 자격 조건이 월세 6...   \n",
       "349  월세  안녕하세요 월세지원금 선정되서 금일 입금이 되었습니다6,7,8월 이체증 등록해서 오...   \n",
       "\n",
       "                                                    답변  \n",
       "0    월세가 차라리 더 좋아 보입니다.전체적으로 좀 싸게 들어가면 전세가 좋기는 하지만,...  \n",
       "1                               결과 발표 11월중 예정이라고 돼 있어요  \n",
       "2    안녕하세요. 답변드려요.​네, 서울 청년월세지원은 신청자에게 결과를 카톡으로 연락해...  \n",
       "3    1.신림동.독산동.신월동.시흥동.가산동 등등 입니다그러나 보통 원룸 월세가 40~4...  \n",
       "4    답변드립니다최대 10개월 지원받고 200만원까지 가능한데 생애 1회만 가능합니다그러...  \n",
       "..                                                 ...  \n",
       "345  안녕하세요지식인 대출분야(담보대출,전세자금대출,신용대출,개인회생) 상담전문 뱅크솔루...  \n",
       "346  어 음...월세가 너무 부담 되지 않을까요?여건이 되고 지금 집이 괜찮다면 그냥 그...  \n",
       "347  서울 월세 집을 얻을때 알아둬야 할게 있을까요당장 오늘 집보러 가는데 아는게 없네요...  \n",
       "348  안녕하세요. 서울생활 행복도우미 120다산콜센터 지식파트너입니다.　　◈ 2020년 ...  \n",
       "349  안녕하세요 월세지원금 선정되서 금일 입금이 되었습니다, 6,7,8월 이체증 등록해서...  \n",
       "\n",
       "[350 rows x 3 columns]"
      ]
     },
     "execution_count": 21,
     "metadata": {},
     "output_type": "execute_result"
    }
   ],
   "source": [
    "df = pd.DataFrame(data_list)\n",
    "df"
   ]
  },
  {
   "cell_type": "code",
   "execution_count": 23,
   "metadata": {},
   "outputs": [],
   "source": [
    "df.to_csv('data/서울 월세.csv', index=False, encoding='utf-8')"
   ]
  },
  {
   "cell_type": "code",
   "execution_count": null,
   "metadata": {},
   "outputs": [],
   "source": []
  }
 ],
 "metadata": {
  "kernelspec": {
   "display_name": "base",
   "language": "python",
   "name": "python3"
  },
  "language_info": {
   "codemirror_mode": {
    "name": "ipython",
    "version": 3
   },
   "file_extension": ".py",
   "mimetype": "text/x-python",
   "name": "python",
   "nbconvert_exporter": "python",
   "pygments_lexer": "ipython3",
   "version": "3.11.4"
  }
 },
 "nbformat": 4,
 "nbformat_minor": 2
}
